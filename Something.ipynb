{
 "cells": [
  {
   "cell_type": "code",
   "execution_count": 9,
   "metadata": {},
   "outputs": [
    {
     "name": "stdin",
     "output_type": "stream",
     "text": [
      "Enter your name:  stuff\n"
     ]
    },
    {
     "name": "stdout",
     "output_type": "stream",
     "text": [
      "Hello stuff\n"
     ]
    },
    {
     "name": "stdin",
     "output_type": "stream",
     "text": [
      "What actions would you like to take? (recover, fight, exit)?  fight\n"
     ]
    }
   ],
   "source": [
    "playerHp = int(100)\n",
    "\n",
    "name = input(\"Enter your name: \")\n",
    "print(\"Hello\",name,)\n",
    "action = input(\"What actions would you like to take? (recover, fight, exit)? \")"
   ]
  },
  {
   "cell_type": "code",
   "execution_count": null,
   "metadata": {},
   "outputs": [],
   "source": [
    "if(action.lower() == \"recover\"):\n",
    "    recover()"
   ]
  }
 ],
 "metadata": {
  "kernelspec": {
   "display_name": "Python 3",
   "language": "python",
   "name": "python3"
  },
  "language_info": {
   "codemirror_mode": {
    "name": "ipython",
    "version": 3
   },
   "file_extension": ".py",
   "mimetype": "text/x-python",
   "name": "python",
   "nbconvert_exporter": "python",
   "pygments_lexer": "ipython3",
   "version": "3.8.3"
  }
 },
 "nbformat": 4,
 "nbformat_minor": 4
}
