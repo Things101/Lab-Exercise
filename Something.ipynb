{
 "cells": [
  {
   "cell_type": "code",
   "execution_count": null,
   "metadata": {},
   "outputs": [],
   "source": [
    "def recover(): # Allows user to play gold to heal or increase hp\n",
    "    print(\"Nice, you recovered!\")\n",
    "    return\n",
    "def fight(): # Allows user to fight from a list of 3 monsters\n",
    "    monsters = {\"Wolf\": 20, \"Goblin\": 40, \"Dragon\": 100} # Holds the hp value of the monster\n",
    "    print(\"Not a feature yet!\")\n",
    "    return\n",
    "def shop(): # Allows user to buy a different weapon\n",
    "    print(\"Not a feature yet!\")\n",
    "    return\n",
    "\n",
    "player_hp = int(100)\n",
    "player_gold = int(75)\n",
    "weapons = {\"Knife\": 5, \"Sword\": 10, \"GreatSword\": 20} # Holds weapon name and damage\n",
    "keep_playing = True\n",
    "name = input(\"Enter your name: \")\n",
    "print(\"Hello\",name,)\n",
    "\n",
    "while(keep_playing and player_hp != 0):\n",
    "    action = input(\"What actions would you like to take? (recover, fight, shop) Press enter to exit? \")\n",
    "    if(action.lower() == \"recover\"):\n",
    "        recover()\n",
    "    elif(action.lower() == \"fight\"):\n",
    "        fight()\n",
    "    elif(action.lower() == \"shop\"):\n",
    "        shop()\n",
    "    else:\n",
    "        keep_playing = False"
   ]
  }
 ],
 "metadata": {
  "kernelspec": {
   "display_name": "Python 3",
   "language": "python",
   "name": "python3"
  },
  "language_info": {
   "codemirror_mode": {
    "name": "ipython",
    "version": 3
   },
   "file_extension": ".py",
   "mimetype": "text/x-python",
   "name": "python",
   "nbconvert_exporter": "python",
   "pygments_lexer": "ipython3",
   "version": "3.8.3"
  }
 },
 "nbformat": 4,
 "nbformat_minor": 4
}
